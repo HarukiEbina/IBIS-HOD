{
 "cells": [
  {
   "cell_type": "code",
   "execution_count": 1,
   "id": "925ba775-3a02-48ad-9b77-304e803777d6",
   "metadata": {},
   "outputs": [],
   "source": [
    "%load_ext autoreload"
   ]
  },
  {
   "cell_type": "code",
   "execution_count": 2,
   "id": "476bdd37-c82d-4e92-a67f-f4e4496b1821",
   "metadata": {},
   "outputs": [],
   "source": [
    "%autoreload 2"
   ]
  },
  {
   "cell_type": "code",
   "execution_count": 3,
   "id": "e1b7dd6b-574a-43c3-b1a1-e566c1fcfcae",
   "metadata": {},
   "outputs": [],
   "source": [
    "basedir = \"/pscratch/sd/h/hebina/AbacusLBG/\"\n",
    "import sys, os\n",
    "from astropy.table import Table, vstack\n",
    "from astropy.io import fits\n",
    "\n",
    "for subdir in [\"\",'ibis_tertiary44/LAE_auto_v2']:\n",
    "    sys.path.append(basedir+subdir)\n",
    "from misc import *\n",
    "from matplotlib import pyplot as plt\n",
    "from scipy.interpolate import interp1d\n",
    "import json\n",
    "from scipy.special     import erfc\n",
    "\n",
    "sys.path.append('..')\n",
    "from mc_forecast import mc_forecast\n",
    "from forecast_utils import *"
   ]
  },
  {
   "cell_type": "code",
   "execution_count": 4,
   "id": "4ab49a84-4cdd-42e7-bf06-7f24c597a43c",
   "metadata": {},
   "outputs": [],
   "source": [
    "from matplotlib.pyplot import rc\n",
    "rc('mathtext', **{'fontset':'cm'})\n",
    "import matplotlib\n",
    "matplotlib.rcParams['text.latex.preamble'] = r'\\usepackage{amsmath}'\n",
    "plt.rcParams[\"font.family\"] = \"serif\"\n"
   ]
  },
  {
   "cell_type": "code",
   "execution_count": 5,
   "id": "7d22ce03-788b-478d-890a-b29f28d16046",
   "metadata": {},
   "outputs": [],
   "source": [
    "m_bands = ['M411','M438','M464','M490','M517']\n",
    "band_z = {\n",
    "    'M411':[2.26,2.56],\n",
    "    'M438':[2.47,2.77],\n",
    "    'M464':[2.68,2.98],\n",
    "    'M490':[2.89,3.2],\n",
    "    'M517':[3.1,3.41]\n",
    "}"
   ]
  },
  {
   "cell_type": "code",
   "execution_count": 6,
   "id": "984a0fb0-c50e-4e14-9b36-a75909cf186d",
   "metadata": {},
   "outputs": [],
   "source": [
    "cosmo = get_cosmo_P18()\n",
    "h = cosmo.h()"
   ]
  },
  {
   "cell_type": "code",
   "execution_count": 7,
   "id": "1b00c211-7099-4d70-9c6d-f1e4c2420ad8",
   "metadata": {},
   "outputs": [],
   "source": [
    "rbins = np.geomspace(0.4,45,9)[1:]\n",
    "RwR = np.sqrt(rbins[1:]*rbins[:-1])\n"
   ]
  },
  {
   "cell_type": "code",
   "execution_count": 8,
   "id": "5aa71568-6714-4b59-bb15-84a3589712ef",
   "metadata": {},
   "outputs": [],
   "source": [
    "fint_list = np.loadtxt('/pscratch/sd/h/hebina/AbacusLBG/ibis_tertiary44/LAE_auto_v2/data_measurements/fint_v4/pessimistic.txt')\n",
    "fint_list += np.loadtxt('/pscratch/sd/h/hebina/AbacusLBG/ibis_tertiary44/LAE_auto_v2/data_measurements/fint_v4/optimistic.txt')\n",
    "fint_list /= 2\n",
    "\n",
    "fn = '/pscratch/sd/h/hebina/AbacusLBG/ibis_tertiary44/LAE_auto_v2/data_measurements/wR_v4/lae_5bins.json'\n",
    "data = json.load(open(fn,'r'))\n",
    "\n",
    "datwt_array = []\n",
    "for j, band in enumerate(m_bands):\n",
    "    fint = fint_list[j]    \n",
    "    datwt_array.append(np.array(data['z%d'%(j+1)]['wt']) / (1-fint)**2)\n",
    "datwt_array = np.array(datwt_array)"
   ]
  },
  {
   "cell_type": "code",
   "execution_count": 9,
   "id": "61da5f67-5cc4-49d3-9bd3-16e49e83da7e",
   "metadata": {},
   "outputs": [],
   "source": [
    "fn = \"/pscratch/sd/h/hebina/IBIS/selection_clustering/catalogs/clustering_cat_v4.fits\"\n",
    "d = Table.read(fn)\n",
    "radius = 1.4\n",
    "ra0,dec0 = 35.75, -4.75\n",
    "area = 1.4**2 * np.pi\n",
    "coord_cut = angular_distance(d['RA'],d['DEC'],ra0,dec0)<radius\n",
    "d = d[coord_cut]\n",
    "\n",
    "fn = \"/pscratch/sd/h/hebina/IBIS/selection_clustering/catalogs/redshift_cat_v4.fits\"\n",
    "d_spec = Table.read(fn)\n",
    "radius = 1.4\n",
    "ra0,dec0 = 35.75, -4.75\n",
    "area = 1.4**2 * np.pi\n",
    "coord_cut = angular_distance(d_spec['RA'],d_spec['DEC'],ra0,dec0)<radius\n",
    "d_spec = d_spec[coord_cut]"
   ]
  },
  {
   "cell_type": "code",
   "execution_count": 10,
   "id": "41690006-93e3-403a-8dde-14f25ed38141",
   "metadata": {},
   "outputs": [],
   "source": [
    "use_mask = True"
   ]
  },
  {
   "cell_type": "markdown",
   "id": "6e2f2a57-b6b3-49f2-ae84-e0853698d811",
   "metadata": {},
   "source": [
    "# $\\chi^2$ fits"
   ]
  },
  {
   "cell_type": "code",
   "execution_count": 11,
   "id": "98eb1699-954c-4e06-8cb8-94d7c3529b2f",
   "metadata": {
    "scrolled": true
   },
   "outputs": [],
   "source": [
    "rbins = np.geomspace(0.4,45,9)[:-1]\n",
    "RwR = np.sqrt(rbins[1:]*rbins[:-1])\n",
    "lgMc_list = [11.00,11.25,11.50,11.75,12.0,12.25,12.5]\n",
    "alph_list = [.33,.5,.66]#,1.]\n",
    "sigm_list = [.33,.5,.66]#,1.]\n",
    "kapp_list = [1]\n",
    "plat_list = [5,10]\n",
    "chi2_arr = [];hod_arr = [];r0_arr = [];fsat_arr = []\n",
    "\n",
    "fn = '/pscratch/sd/h/hebina/AbacusLBG/ibis_tertiary44/LAE_auto_v2/hod/large_grid_c000_ph100_z2.5_r.json'\n",
    "lae = json.load(open(fn,\"r\"))\n",
    "\n",
    "for lgMcut in lgMc_list:\n",
    "  for plateau in plat_list:\n",
    "    lgM1 = lgMcut + np.log10(plateau)\n",
    "    for alph in alph_list:\n",
    "      for sigm in sigm_list:\n",
    "        for kappa in kapp_list:\n",
    "          # hod_params = {'logM_cut':11.75,'logM1':12.45,'sigma':0.66,'kappa':1.00,'alpha':1.0}\n",
    "          hod_params = {'logM_cut':lgMcut,'logM1':lgM1,'sigma':sigm,'kappa':kappa,'alpha':alph}      \n",
    "          forecast = mc_forecast.initialize('ibis_tertiary44_clustering_v4.2',cosmo,d,d_spec , '../ibis_tertiary44_msk.fits',35.75,-4.75, 2.8*np.pi/180,\n",
    "                                   band_z['M411'][0], band_z['M517'][1], hod_params, use_mask, overwrite=False,ntarg_ratio=1.,fsamp=.6,nbox=256,basedir='..',\n",
    "                                   m_bands=['M411','M438'],zbox=2.5)\n",
    "          assert forecast.check_hod_exists()\n",
    "          # forecast.make_cat(overwrite=False)\n",
    "          # forecast.compute_wR(overwrite=False)\n",
    "          c2, tmp1, tmp2, _ = forecast.chi2_wR(datwt_array[:2])\n",
    "          hod_arr.append(hod_params)\n",
    "          chi2_arr.append(c2)\n",
    "        \n",
    "          rr = lae['R']\n",
    "          for i,samp in enumerate(lae['mocks']):\n",
    "              tmp = True\n",
    "              for pp in hod_params.keys():\n",
    "                  ppidx = lae['hodkeys'].index(pp)\n",
    "                  tmp &= hod_params[pp]==samp['hod'][ppidx]\n",
    "              if tmp: break\n",
    "          assert tmp\n",
    "          xi = np.array(samp['xi0'])\n",
    "          r0_arr.append(5*interp1d(rr,xi)(5)**(1/1.8))\n",
    "          fsat_arr.append(samp['fsat'])\n",
    "          # del lae['mocks'][i]"
   ]
  },
  {
   "cell_type": "code",
   "execution_count": 12,
   "id": "1c11aa81-a433-4eb0-be78-b24800689696",
   "metadata": {},
   "outputs": [],
   "source": [
    "chi2_arr_z1 = chi2_arr\n",
    "r0_arr_z1 = r0_arr\n",
    "fsat_arr_z1 = fsat_arr"
   ]
  },
  {
   "cell_type": "code",
   "execution_count": null,
   "id": "9473e49b-7f79-4c7c-a10d-2299e311e722",
   "metadata": {},
   "outputs": [],
   "source": []
  },
  {
   "cell_type": "code",
   "execution_count": 13,
   "id": "dfd165f4-2763-4819-bca1-453e07afbcd4",
   "metadata": {},
   "outputs": [],
   "source": [
    "rbins = np.geomspace(0.4,45,9)[:-1]\n",
    "RwR = np.sqrt(rbins[1:]*rbins[:-1])\n",
    "lgMc_list = [11.00,11.25,11.50,11.75,12.0,12.25,12.5]\n",
    "alph_list = [.33,.5,.66]#,1.]\n",
    "sigm_list = [.33,.5,.66]#,1.]\n",
    "kapp_list = [1]\n",
    "plat_list = [5,10]\n",
    "chi2_arr = [];hod_arr = [];r0_arr = [];fsat_arr = []\n",
    "\n",
    "fn = '/pscratch/sd/h/hebina/AbacusLBG/ibis_tertiary44/LAE_auto_v2/hod/large_grid_c000_ph100_z3.0_r.json'\n",
    "lae = json.load(open(fn,\"r\"))\n",
    "for lgMcut in lgMc_list:\n",
    "  for plateau in plat_list:\n",
    "    lgM1 = lgMcut + np.log10(plateau)\n",
    "    for alph in alph_list:\n",
    "      for sigm in sigm_list:\n",
    "        for kappa in kapp_list:\n",
    "          # hod_params = {'logM_cut':11.75,'logM1':12.45,'sigma':0.66,'kappa':1.00,'alpha':1.0}\n",
    "          hod_params = {'logM_cut':lgMcut,'logM1':lgM1,'sigma':sigm,'kappa':kappa,'alpha':alph}      \n",
    "          forecast = mc_forecast.initialize('ibis_tertiary44_clustering_v4.2',cosmo,d,d_spec , '../ibis_tertiary44_msk.fits',35.75,-4.75, 2.8*np.pi/180,\n",
    "                                   band_z['M411'][0], band_z['M517'][1], hod_params, use_mask, overwrite=False,ntarg_ratio=1.,fsamp=.6,nbox=256,basedir='..',\n",
    "                                   m_bands=['M464','M490','M517'],zbox=3.0)\n",
    "          assert forecast.check_hod_exists()\n",
    "          # forecast.make_cat(overwrite=False)\n",
    "          # forecast.compute_wR(overwrite=False)\n",
    "          c2, tmp1, tmp2, _ = forecast.chi2_wR(datwt_array[2:])\n",
    "          hod_arr.append(hod_params)\n",
    "          chi2_arr.append(c2)\n",
    "        \n",
    "          rr = lae['R']\n",
    "          for i,samp in enumerate(lae['mocks']):\n",
    "              tmp = True\n",
    "              for pp in hod_params.keys():\n",
    "                  ppidx = lae['hodkeys'].index(pp)\n",
    "                  tmp &= hod_params[pp]==samp['hod'][ppidx]\n",
    "              if tmp: break\n",
    "          assert tmp\n",
    "          xi = np.array(samp['xi0'])\n",
    "          r0_arr.append(5*interp1d(rr,xi)(5)**(1/1.8))\n",
    "          fsat_arr.append(samp['fsat'])\n",
    "          # del lae['mocks'][i]"
   ]
  },
  {
   "cell_type": "code",
   "execution_count": 14,
   "id": "d12ee081-8a75-4f20-9303-2e3cf64fa47c",
   "metadata": {},
   "outputs": [],
   "source": [
    "chi2_arr_z2 = chi2_arr\n",
    "r0_arr_z2 = r0_arr\n",
    "fsat_arr_z2 = fsat_arr"
   ]
  },
  {
   "cell_type": "code",
   "execution_count": 15,
   "id": "98b5c33b-6ffd-48c7-9c40-012bc0358be7",
   "metadata": {},
   "outputs": [],
   "source": [
    "bestfit_dict = {'z1':{'z':2.5,\n",
    "                      'r0':r0_arr_z1,\n",
    "                      'chi2':chi2_arr_z1,\n",
    "                      'fsat':fsat_arr_z1,\n",
    "                     },\n",
    "                'z2':{'z':3.0,\n",
    "                      'r0':r0_arr_z2,\n",
    "                      'chi2':chi2_arr_z2,\n",
    "                      'fsat':fsat_arr_z2,\n",
    "                     },\n",
    "               }\n",
    "import json\n",
    "with open('r0_arr.json', 'w') as fp:\n",
    "    json.dump(bestfit_dict, fp)\n"
   ]
  },
  {
   "cell_type": "code",
   "execution_count": 16,
   "id": "897912cd-08d7-487c-8edb-081d5d39b398",
   "metadata": {},
   "outputs": [
    {
     "data": {
      "text/plain": [
       "(3.2765219121667934,\n",
       " {'logM_cut': 11.25,\n",
       "  'logM1': 11.948970004336019,\n",
       "  'sigma': 0.66,\n",
       "  'kappa': 1,\n",
       "  'alpha': 0.33},\n",
       " 0.121941703746695)"
      ]
     },
     "execution_count": 16,
     "metadata": {},
     "output_type": "execute_result"
    }
   ],
   "source": [
    "r0_arr_z1[np.argmin(chi2_arr_z1)],hod_arr[np.argmin(chi2_arr_z1)],fsat_arr_z1[np.argmin(chi2_arr_z1)]"
   ]
  },
  {
   "cell_type": "code",
   "execution_count": 17,
   "id": "88fbc5d6-e5a8-4d3a-944f-72d9b0812c89",
   "metadata": {},
   "outputs": [
    {
     "data": {
      "text/plain": [
       "(77,\n",
       " 4.1257453831492095,\n",
       " {'logM_cut': 12.0,\n",
       "  'logM1': 12.698970004336019,\n",
       "  'sigma': 0.66,\n",
       "  'kappa': 1,\n",
       "  'alpha': 0.5},\n",
       " 0.029727907209998516)"
      ]
     },
     "execution_count": 17,
     "metadata": {},
     "output_type": "execute_result"
    }
   ],
   "source": [
    "np.argmin(chi2_arr_z2),r0_arr_z2[np.argmin(chi2_arr_z2)],hod_arr[np.argmin(chi2_arr_z2)],fsat_arr_z2[np.argmin(chi2_arr_z2)]"
   ]
  },
  {
   "cell_type": "code",
   "execution_count": 18,
   "id": "b0e722f2-fadc-4286-9191-973c38bb1bdf",
   "metadata": {},
   "outputs": [
    {
     "data": {
      "text/plain": [
       "(0.2591454352403251, 0.23841780582626115)"
      ]
     },
     "execution_count": 18,
     "metadata": {},
     "output_type": "execute_result"
    }
   ],
   "source": [
    "np.max(fsat_arr_z1), np.max(fsat_arr_z2)"
   ]
  },
  {
   "cell_type": "code",
   "execution_count": null,
   "id": "145802d2-3c16-44d6-82e1-fa81e55b44c1",
   "metadata": {},
   "outputs": [],
   "source": []
  },
  {
   "cell_type": "code",
   "execution_count": 12,
   "id": "c34244d2-4dd5-4600-ab38-a8975578301a",
   "metadata": {},
   "outputs": [
    {
     "data": {
      "image/png": "[encoded data removed]",
      "text/plain": [
       "<Figure size 600x300 with 2 Axes>"
      ]
     },
     "metadata": {},
     "output_type": "display_data"
    }
   ],
   "source": [
    "fig,axs = plt.subplots(1,2,figsize=(6,3))\n",
    "for i in range(2):\n",
    "    if i==0: fn = '/pscratch/sd/h/hebina/AbacusLBG/ibis_tertiary44/LAE_auto_v2/mc/ibis_tertiary44_v4.2/r0_arr.json'\n",
    "    else: fn = '/pscratch/sd/h/hebina/AbacusLBG/ibis_tertiary44/LAE_auto_v2/mc/ibis_tertiary44_bright_v4.2/r0_arr.json'\n",
    "    dd = json.load(open(fn,'r'))\n",
    "    ax = axs[i]\n",
    "    ax.scatter(dd['z1']['r0'],dd['z1']['chi2'],marker='.')\n",
    "    ax.scatter(dd['z2']['r0'],dd['z2']['chi2'],marker='.')\n",
    "    ax.set_xlabel(r'$r_0\\,[h^{-1}\\text{Mpc}]$',fontsize=14)\n",
    "\n",
    "    if i==0: ax.set_xlim(2.9,6)\n",
    "    else: ax.set_xlim(2.9,6)\n",
    "    ax.set_ylim(0,18)\n",
    "    # ax.grid(alpha=.8,ls='--')\n",
    "\n",
    "    ax.axhline(8.18,c='k',ls='--')\n",
    "    ax.axhline(14.34,c='k',ls='-')\n",
    "    ax.fill_between(np.linspace(2,7),14.34, 30,color='k',alpha=.3)\n",
    "\n",
    "    if i==0:\n",
    "        ax.set_ylabel(r'$\\chi^2$',fontsize=14)\n",
    "        ax.set_title(r'total',y=.01,x=.12)\n",
    "    else:\n",
    "        ax.set_yticklabels([])\n",
    "        ax.scatter([],[],c='C0',label=r'$z=2.5$',marker='.')\n",
    "        ax.scatter([],[],c='C1',label=r'$z=3.0$',marker='.')\n",
    "        ax.legend(loc='lower right',fontsize=12)\n",
    "        ax.set_title(r'wide',y=.01,x=.12)\n",
    "\n",
    "\n",
    "fig.tight_layout()\n",
    "fig.savefig('plots/r0_chi2.pdf')\n",
    "fig.show()"
   ]
  },
  {
   "cell_type": "code",
   "execution_count": 15,
   "id": "2c23544b",
   "metadata": {},
   "outputs": [
    {
     "name": "stdout",
     "output_type": "stream",
     "text": [
      "sample 0 z1\n",
      "r0 mid = 3.28\n",
      "r0 1sigma = 3.08 - 3.98\n",
      "sample 0 z2\n",
      "r0 mid = 4.13\n",
      "r0 1sigma = 3.57 - 4.37\n",
      "sample 1 z1\n",
      "r0 mid = 3.08\n",
      "r0 1sigma = 3.08 - 3.88\n",
      "sample 1 z2\n",
      "r0 mid = 3.85\n",
      "r0 1sigma = 3.72 - 4.53\n"
     ]
    },
    {
     "data": {
      "image/png": "[encoded data removed]",
      "text/plain": [
       "<Figure size 600x300 with 2 Axes>"
      ]
     },
     "metadata": {},
     "output_type": "display_data"
    }
   ],
   "source": [
    "fig,axs = plt.subplots(1,2,figsize=(6,3))\n",
    "for i in range(2):\n",
    "    if i==0: fn = '/pscratch/sd/h/hebina/AbacusLBG/ibis_tertiary44/LAE_auto_v2/mc/ibis_tertiary44_v4.2/r0_arr.json'\n",
    "    else: fn = '/pscratch/sd/h/hebina/AbacusLBG/ibis_tertiary44/LAE_auto_v2/mc/ibis_tertiary44_bright_v4.2/r0_arr.json'\n",
    "    dd = json.load(open(fn,'r'))\n",
    "    ax = axs[i]\n",
    "    for j in range(1,3):\n",
    "        zstr = 'z%d'%j\n",
    "        r0 = np.array(dd[zstr]['r0'])\n",
    "        chi2 = np.array(dd[zstr]['chi2'])\n",
    "        chi2min = np.min(chi2)\n",
    "        idxs = np.where(chi2<chi2min+2)[0]\n",
    "        # idxs = np.where(chi2<chi2min+1)[0]\n",
    "\n",
    "        r0mid = r0[np.argmin(chi2)]\n",
    "\n",
    "        print('sample',i,zstr)\n",
    "        print('r0 mid = %.2f'%(r0mid))\n",
    "        print('r0 1sigma = %.2f - %.2f'%(np.min(r0[idxs]), np.max(r0[idxs])))\n",
    "\n",
    "    ax.scatter(dd['z1']['r0'],dd['z1']['chi2'],marker='.')\n",
    "    ax.scatter(dd['z2']['r0'],dd['z2']['chi2'],marker='.')\n",
    "    ax.set_xlabel(r'$r_0\\,[h^{-1}\\text{Mpc}]$',fontsize=14)\n",
    "\n",
    "    if i==0: ax.set_xlim(2.9,6)\n",
    "    else: ax.set_xlim(2.9,6)\n",
    "    ax.set_ylim(0,18)\n",
    "    # ax.grid(alpha=.8,ls='--')\n",
    "\n",
    "    ax.axhline(8.18,c='k',ls='--')\n",
    "    ax.axhline(14.34,c='k',ls='-')\n",
    "    ax.fill_between(np.linspace(2,7),14.34, 30,color='k',alpha=.3)\n",
    "\n",
    "    if i==0:\n",
    "        ax.set_ylabel(r'$\\chi^2$',fontsize=14)\n",
    "        ax.set_title(r'total',y=.01,x=.12)\n",
    "    else:\n",
    "        ax.set_yticklabels([])\n",
    "        ax.scatter([],[],c='C0',label=r'$z=2.5$',marker='.')\n",
    "        ax.scatter([],[],c='C1',label=r'$z=3.0$',marker='.')\n",
    "        ax.legend(loc='lower right',fontsize=12)\n",
    "        ax.set_title(r'wide',y=.01,x=.12)\n",
    "\n",
    "\n",
    "fig.tight_layout()\n",
    "# fig.savefig('plots/r0_chi2.pdf')\n",
    "fig.show()"
   ]
  },
  {
   "cell_type": "code",
   "execution_count": 21,
   "id": "254554b0-a920-4085-87e5-cec32112cd67",
   "metadata": {},
   "outputs": [
    {
     "data": {
      "image/png": "[encoded data removed]",
      "text/plain": [
       "<Figure size 600x300 with 2 Axes>"
      ]
     },
     "metadata": {},
     "output_type": "display_data"
    }
   ],
   "source": [
    "fig,axs = plt.subplots(1,2,figsize=(6,3))\n",
    "for i in range(2):\n",
    "    if i==0: fn = '/pscratch/sd/h/hebina/AbacusLBG/ibis_tertiary44/LAE_auto_v2/mc/ibis_tertiary44_v4.2/r0_arr.json'\n",
    "    else: fn = '/pscratch/sd/h/hebina/AbacusLBG/ibis_tertiary44/LAE_auto_v2/mc/ibis_tertiary44_bright_v4.2/r0_arr.json'\n",
    "    dd = json.load(open(fn,'r'))\n",
    "    ax = axs[i]\n",
    "    ax.scatter(dd['z1']['fsat'],dd['z1']['chi2'],marker='.')\n",
    "    ax.scatter(dd['z2']['fsat'],dd['z2']['chi2'],marker='.')\n",
    "    ax.set_xlabel(r'$f_{sat}$',fontsize=14)\n",
    "\n",
    "    # if i==0: ax.set_xlim(2.9,6)\n",
    "    # else: ax.set_xlim(2.9,6)\n",
    "    ax.set_ylim(0,18)\n",
    "    # ax.grid(alpha=.8,ls='--')\n",
    "\n",
    "    ax.axhline(8.18,c='k',ls='--')\n",
    "    ax.axhline(14.34,c='k',ls='-')\n",
    "    # ax.fill_between(np.linspace(2,7),14.34, 30,color='k',alpha=.3)\n",
    "\n",
    "    if i==0:\n",
    "        ax.set_ylabel(r'$\\chi^2$',fontsize=14)\n",
    "        ax.set_title(r'total',y=.01,x=.12)\n",
    "    else:\n",
    "        ax.set_yticklabels([])\n",
    "        ax.scatter([],[],c='C0',label=r'$z=2.5$',marker='.')\n",
    "        ax.scatter([],[],c='C1',label=r'$z=3.0$',marker='.')\n",
    "        ax.legend(loc='lower right',fontsize=12)\n",
    "        ax.set_title(r'wide',y=.01,x=.12)\n",
    "\n",
    "\n",
    "fig.tight_layout()\n",
    "# fig.savefig('plots/r0_chi2.pdf')\n",
    "fig.show()"
   ]
  },
  {
   "cell_type": "code",
   "execution_count": null,
   "id": "826744bf-6d2b-4d2c-b1ad-1f8dd2b484e8",
   "metadata": {},
   "outputs": [],
   "source": []
  }
 ],
 "metadata": {
  "kernelspec": {
   "display_name": "myenv",
   "language": "python",
   "name": "myenv"
  },
  "language_info": {
   "codemirror_mode": {
    "name": "ipython",
    "version": 3
   },
   "file_extension": ".py",
   "mimetype": "text/x-python",
   "name": "python",
   "nbconvert_exporter": "python",
   "pygments_lexer": "ipython3",
   "version": "3.11.6"
  }
 },
 "nbformat": 4,
 "nbformat_minor": 5
}
